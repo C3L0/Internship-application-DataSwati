{
 "cells": [
  {
   "cell_type": "markdown",
   "metadata": {},
   "source": [
    "<h2>Import Pandas & Csv Libraries</h2>"
   ]
  },
  {
   "cell_type": "code",
   "execution_count": 190,
   "metadata": {},
   "outputs": [],
   "source": [
    "import pandas as pd\n",
    "import csv"
   ]
  },
  {
   "cell_type": "markdown",
   "metadata": {},
   "source": [
    "<h2>Read the csv files</H2>"
   ]
  },
  {
   "cell_type": "code",
   "execution_count": 191,
   "metadata": {},
   "outputs": [],
   "source": [
    "df_sales = pd.read_csv(\"data/sales.csv\")\n",
    "df_employees = pd.read_csv(\"data/employees.csv\")"
   ]
  },
  {
   "cell_type": "markdown",
   "metadata": {},
   "source": [
    "<h4>Test the dataframes</h4>"
   ]
  },
  {
   "cell_type": "markdown",
   "metadata": {},
   "source": [
    "We print the 5 first rows of both dataframe to make sure that the data have been well imported"
   ]
  },
  {
   "cell_type": "code",
   "execution_count": 192,
   "metadata": {},
   "outputs": [
    {
     "data": {
      "text/html": [
       "<div>\n",
       "<style scoped>\n",
       "    .dataframe tbody tr th:only-of-type {\n",
       "        vertical-align: middle;\n",
       "    }\n",
       "\n",
       "    .dataframe tbody tr th {\n",
       "        vertical-align: top;\n",
       "    }\n",
       "\n",
       "    .dataframe thead th {\n",
       "        text-align: right;\n",
       "    }\n",
       "</style>\n",
       "<table border=\"1\" class=\"dataframe\">\n",
       "  <thead>\n",
       "    <tr style=\"text-align: right;\">\n",
       "      <th></th>\n",
       "      <th>ID</th>\n",
       "      <th>Date</th>\n",
       "      <th>Produit</th>\n",
       "      <th>Prix</th>\n",
       "      <th>Quantité</th>\n",
       "      <th>Catégorie</th>\n",
       "      <th>Vendeur</th>\n",
       "      <th>Remise</th>\n",
       "    </tr>\n",
       "  </thead>\n",
       "  <tbody>\n",
       "    <tr>\n",
       "      <th>0</th>\n",
       "      <td>1</td>\n",
       "      <td>2023-09-15</td>\n",
       "      <td>Ordinateur</td>\n",
       "      <td>1200</td>\n",
       "      <td>2</td>\n",
       "      <td>Informatique</td>\n",
       "      <td>2.0</td>\n",
       "      <td>10.0</td>\n",
       "    </tr>\n",
       "    <tr>\n",
       "      <th>1</th>\n",
       "      <td>2</td>\n",
       "      <td>2023-09-15</td>\n",
       "      <td>Souris</td>\n",
       "      <td>25</td>\n",
       "      <td>5</td>\n",
       "      <td>Accessoires</td>\n",
       "      <td>1.0</td>\n",
       "      <td>0.0</td>\n",
       "    </tr>\n",
       "    <tr>\n",
       "      <th>2</th>\n",
       "      <td>3</td>\n",
       "      <td>2023-09-19</td>\n",
       "      <td>Clavier mécanique</td>\n",
       "      <td>70</td>\n",
       "      <td>3</td>\n",
       "      <td>Informatique</td>\n",
       "      <td>2.0</td>\n",
       "      <td>5.0</td>\n",
       "    </tr>\n",
       "    <tr>\n",
       "      <th>3</th>\n",
       "      <td>4</td>\n",
       "      <td>2023-09-18</td>\n",
       "      <td>Écran 24 pouces</td>\n",
       "      <td>180</td>\n",
       "      <td>4</td>\n",
       "      <td>Informatique</td>\n",
       "      <td>1.0</td>\n",
       "      <td>15.0</td>\n",
       "    </tr>\n",
       "    <tr>\n",
       "      <th>4</th>\n",
       "      <td>5</td>\n",
       "      <td>2023-09-19</td>\n",
       "      <td>Casque audio</td>\n",
       "      <td>120</td>\n",
       "      <td>1</td>\n",
       "      <td>Accessoires</td>\n",
       "      <td>3.0</td>\n",
       "      <td>NaN</td>\n",
       "    </tr>\n",
       "  </tbody>\n",
       "</table>\n",
       "</div>"
      ],
      "text/plain": [
       "   ID        Date            Produit  Prix  Quantité     Catégorie  Vendeur  \\\n",
       "0   1  2023-09-15         Ordinateur  1200         2  Informatique      2.0   \n",
       "1   2  2023-09-15             Souris    25         5   Accessoires      1.0   \n",
       "2   3  2023-09-19  Clavier mécanique    70         3  Informatique      2.0   \n",
       "3   4  2023-09-18    Écran 24 pouces   180         4  Informatique      1.0   \n",
       "4   5  2023-09-19       Casque audio   120         1   Accessoires      3.0   \n",
       "\n",
       "   Remise  \n",
       "0    10.0  \n",
       "1     0.0  \n",
       "2     5.0  \n",
       "3    15.0  \n",
       "4     NaN  "
      ]
     },
     "execution_count": 192,
     "metadata": {},
     "output_type": "execute_result"
    }
   ],
   "source": [
    "df_sales.head()"
   ]
  },
  {
   "cell_type": "code",
   "execution_count": 193,
   "metadata": {},
   "outputs": [
    {
     "data": {
      "text/html": [
       "<div>\n",
       "<style scoped>\n",
       "    .dataframe tbody tr th:only-of-type {\n",
       "        vertical-align: middle;\n",
       "    }\n",
       "\n",
       "    .dataframe tbody tr th {\n",
       "        vertical-align: top;\n",
       "    }\n",
       "\n",
       "    .dataframe thead th {\n",
       "        text-align: right;\n",
       "    }\n",
       "</style>\n",
       "<table border=\"1\" class=\"dataframe\">\n",
       "  <thead>\n",
       "    <tr style=\"text-align: right;\">\n",
       "      <th></th>\n",
       "      <th>ID</th>\n",
       "      <th>Nom</th>\n",
       "      <th>Equipe</th>\n",
       "    </tr>\n",
       "  </thead>\n",
       "  <tbody>\n",
       "    <tr>\n",
       "      <th>0</th>\n",
       "      <td>1</td>\n",
       "      <td>Alice</td>\n",
       "      <td>Equipe A</td>\n",
       "    </tr>\n",
       "    <tr>\n",
       "      <th>1</th>\n",
       "      <td>2</td>\n",
       "      <td>Bob</td>\n",
       "      <td>Equipe B</td>\n",
       "    </tr>\n",
       "    <tr>\n",
       "      <th>2</th>\n",
       "      <td>3</td>\n",
       "      <td>Corentin</td>\n",
       "      <td>Equipe A</td>\n",
       "    </tr>\n",
       "    <tr>\n",
       "      <th>3</th>\n",
       "      <td>4</td>\n",
       "      <td>Daniel</td>\n",
       "      <td>Equipe C</td>\n",
       "    </tr>\n",
       "  </tbody>\n",
       "</table>\n",
       "</div>"
      ],
      "text/plain": [
       "   ID       Nom    Equipe\n",
       "0   1     Alice  Equipe A\n",
       "1   2       Bob  Equipe B\n",
       "2   3  Corentin  Equipe A\n",
       "3   4    Daniel  Equipe C"
      ]
     },
     "execution_count": 193,
     "metadata": {},
     "output_type": "execute_result"
    }
   ],
   "source": [
    "df_employees.head()"
   ]
  },
  {
   "cell_type": "markdown",
   "metadata": {},
   "source": [
    "<h2>Clean the data</h2>"
   ]
  },
  {
   "cell_type": "markdown",
   "metadata": {},
   "source": [
    "We count the duplicated rows to see if it's relevant to apply a treatment on the dataframe"
   ]
  },
  {
   "cell_type": "code",
   "execution_count": 194,
   "metadata": {},
   "outputs": [
    {
     "data": {
      "text/html": [
       "<div>\n",
       "<style scoped>\n",
       "    .dataframe tbody tr th:only-of-type {\n",
       "        vertical-align: middle;\n",
       "    }\n",
       "\n",
       "    .dataframe tbody tr th {\n",
       "        vertical-align: top;\n",
       "    }\n",
       "\n",
       "    .dataframe thead th {\n",
       "        text-align: right;\n",
       "    }\n",
       "</style>\n",
       "<table border=\"1\" class=\"dataframe\">\n",
       "  <thead>\n",
       "    <tr style=\"text-align: right;\">\n",
       "      <th></th>\n",
       "      <th>ID</th>\n",
       "      <th>Date</th>\n",
       "      <th>Produit</th>\n",
       "      <th>Prix</th>\n",
       "      <th>Quantité</th>\n",
       "      <th>Catégorie</th>\n",
       "      <th>Vendeur</th>\n",
       "      <th>Remise</th>\n",
       "      <th>size</th>\n",
       "    </tr>\n",
       "  </thead>\n",
       "  <tbody>\n",
       "    <tr>\n",
       "      <th>0</th>\n",
       "      <td>1</td>\n",
       "      <td>2023-09-15</td>\n",
       "      <td>Ordinateur</td>\n",
       "      <td>1200</td>\n",
       "      <td>2</td>\n",
       "      <td>Informatique</td>\n",
       "      <td>2.0</td>\n",
       "      <td>10.0</td>\n",
       "      <td>1</td>\n",
       "    </tr>\n",
       "    <tr>\n",
       "      <th>1</th>\n",
       "      <td>2</td>\n",
       "      <td>2023-09-15</td>\n",
       "      <td>Souris</td>\n",
       "      <td>25</td>\n",
       "      <td>5</td>\n",
       "      <td>Accessoires</td>\n",
       "      <td>1.0</td>\n",
       "      <td>0.0</td>\n",
       "      <td>1</td>\n",
       "    </tr>\n",
       "    <tr>\n",
       "      <th>2</th>\n",
       "      <td>3</td>\n",
       "      <td>2023-09-19</td>\n",
       "      <td>Clavier mécanique</td>\n",
       "      <td>70</td>\n",
       "      <td>3</td>\n",
       "      <td>Informatique</td>\n",
       "      <td>2.0</td>\n",
       "      <td>5.0</td>\n",
       "      <td>1</td>\n",
       "    </tr>\n",
       "    <tr>\n",
       "      <th>3</th>\n",
       "      <td>4</td>\n",
       "      <td>2023-09-18</td>\n",
       "      <td>Écran 24 pouces</td>\n",
       "      <td>180</td>\n",
       "      <td>4</td>\n",
       "      <td>Informatique</td>\n",
       "      <td>1.0</td>\n",
       "      <td>15.0</td>\n",
       "      <td>1</td>\n",
       "    </tr>\n",
       "    <tr>\n",
       "      <th>4</th>\n",
       "      <td>6</td>\n",
       "      <td>2023-09-28</td>\n",
       "      <td>Imprimante laser</td>\n",
       "      <td>250</td>\n",
       "      <td>1</td>\n",
       "      <td>Informatique</td>\n",
       "      <td>2.0</td>\n",
       "      <td>20.0</td>\n",
       "      <td>1</td>\n",
       "    </tr>\n",
       "    <tr>\n",
       "      <th>5</th>\n",
       "      <td>8</td>\n",
       "      <td>2023-09-22</td>\n",
       "      <td>Station de charge</td>\n",
       "      <td>45</td>\n",
       "      <td>3</td>\n",
       "      <td>Accessoires</td>\n",
       "      <td>3.0</td>\n",
       "      <td>0.0</td>\n",
       "      <td>2</td>\n",
       "    </tr>\n",
       "    <tr>\n",
       "      <th>6</th>\n",
       "      <td>9</td>\n",
       "      <td>2023-09-22</td>\n",
       "      <td>Sac à dos pour ordinateur</td>\n",
       "      <td>80</td>\n",
       "      <td>2</td>\n",
       "      <td>Accessoires</td>\n",
       "      <td>2.0</td>\n",
       "      <td>10.0</td>\n",
       "      <td>1</td>\n",
       "    </tr>\n",
       "    <tr>\n",
       "      <th>7</th>\n",
       "      <td>10</td>\n",
       "      <td>2023-09-24</td>\n",
       "      <td>Tablette 10 pouces</td>\n",
       "      <td>300</td>\n",
       "      <td>1</td>\n",
       "      <td>Informatique</td>\n",
       "      <td>3.0</td>\n",
       "      <td>25.0</td>\n",
       "      <td>1</td>\n",
       "    </tr>\n",
       "    <tr>\n",
       "      <th>8</th>\n",
       "      <td>11</td>\n",
       "      <td>2023-09-25</td>\n",
       "      <td>Clé USB 64Go</td>\n",
       "      <td>15</td>\n",
       "      <td>10</td>\n",
       "      <td>Accessoires</td>\n",
       "      <td>1.0</td>\n",
       "      <td>0.0</td>\n",
       "      <td>1</td>\n",
       "    </tr>\n",
       "    <tr>\n",
       "      <th>9</th>\n",
       "      <td>13</td>\n",
       "      <td>2023-09-27</td>\n",
       "      <td>Chargeur universel</td>\n",
       "      <td>35</td>\n",
       "      <td>4</td>\n",
       "      <td>Accessoires</td>\n",
       "      <td>3.0</td>\n",
       "      <td>0.0</td>\n",
       "      <td>1</td>\n",
       "    </tr>\n",
       "    <tr>\n",
       "      <th>10</th>\n",
       "      <td>14</td>\n",
       "      <td>2023-09-24</td>\n",
       "      <td>Carte graphique</td>\n",
       "      <td>450</td>\n",
       "      <td>1</td>\n",
       "      <td>Informatique</td>\n",
       "      <td>1.0</td>\n",
       "      <td>50.0</td>\n",
       "      <td>2</td>\n",
       "    </tr>\n",
       "    <tr>\n",
       "      <th>11</th>\n",
       "      <td>15</td>\n",
       "      <td>2023-09-29</td>\n",
       "      <td>Souris ergonomique</td>\n",
       "      <td>60</td>\n",
       "      <td>3</td>\n",
       "      <td>Accessoires</td>\n",
       "      <td>2.0</td>\n",
       "      <td>5.0</td>\n",
       "      <td>1</td>\n",
       "    </tr>\n",
       "    <tr>\n",
       "      <th>12</th>\n",
       "      <td>16</td>\n",
       "      <td>2023-09-30</td>\n",
       "      <td>Enceintes Bluetooth</td>\n",
       "      <td>150</td>\n",
       "      <td>2</td>\n",
       "      <td>Accessoires</td>\n",
       "      <td>3.0</td>\n",
       "      <td>15.0</td>\n",
       "      <td>2</td>\n",
       "    </tr>\n",
       "    <tr>\n",
       "      <th>13</th>\n",
       "      <td>17</td>\n",
       "      <td>2023-10-01</td>\n",
       "      <td>Tablette graphique</td>\n",
       "      <td>200</td>\n",
       "      <td>1</td>\n",
       "      <td>Informatique</td>\n",
       "      <td>1.0</td>\n",
       "      <td>20.0</td>\n",
       "      <td>1</td>\n",
       "    </tr>\n",
       "    <tr>\n",
       "      <th>14</th>\n",
       "      <td>18</td>\n",
       "      <td>2023-10-02</td>\n",
       "      <td>Ordinateur portable</td>\n",
       "      <td>1400</td>\n",
       "      <td>1</td>\n",
       "      <td>Informatique</td>\n",
       "      <td>3.0</td>\n",
       "      <td>30.0</td>\n",
       "      <td>1</td>\n",
       "    </tr>\n",
       "  </tbody>\n",
       "</table>\n",
       "</div>"
      ],
      "text/plain": [
       "    ID        Date                    Produit  Prix  Quantité     Catégorie  \\\n",
       "0    1  2023-09-15                 Ordinateur  1200         2  Informatique   \n",
       "1    2  2023-09-15                     Souris    25         5   Accessoires   \n",
       "2    3  2023-09-19          Clavier mécanique    70         3  Informatique   \n",
       "3    4  2023-09-18            Écran 24 pouces   180         4  Informatique   \n",
       "4    6  2023-09-28           Imprimante laser   250         1  Informatique   \n",
       "5    8  2023-09-22          Station de charge    45         3   Accessoires   \n",
       "6    9  2023-09-22  Sac à dos pour ordinateur    80         2   Accessoires   \n",
       "7   10  2023-09-24         Tablette 10 pouces   300         1  Informatique   \n",
       "8   11  2023-09-25               Clé USB 64Go    15        10   Accessoires   \n",
       "9   13  2023-09-27         Chargeur universel    35         4   Accessoires   \n",
       "10  14  2023-09-24            Carte graphique   450         1  Informatique   \n",
       "11  15  2023-09-29         Souris ergonomique    60         3   Accessoires   \n",
       "12  16  2023-09-30        Enceintes Bluetooth   150         2   Accessoires   \n",
       "13  17  2023-10-01         Tablette graphique   200         1  Informatique   \n",
       "14  18  2023-10-02        Ordinateur portable  1400         1  Informatique   \n",
       "\n",
       "    Vendeur  Remise  size  \n",
       "0       2.0    10.0     1  \n",
       "1       1.0     0.0     1  \n",
       "2       2.0     5.0     1  \n",
       "3       1.0    15.0     1  \n",
       "4       2.0    20.0     1  \n",
       "5       3.0     0.0     2  \n",
       "6       2.0    10.0     1  \n",
       "7       3.0    25.0     1  \n",
       "8       1.0     0.0     1  \n",
       "9       3.0     0.0     1  \n",
       "10      1.0    50.0     2  \n",
       "11      2.0     5.0     1  \n",
       "12      3.0    15.0     2  \n",
       "13      1.0    20.0     1  \n",
       "14      3.0    30.0     1  "
      ]
     },
     "execution_count": 194,
     "metadata": {},
     "output_type": "execute_result"
    }
   ],
   "source": [
    "df_sales.groupby(df_sales.columns.tolist(),as_index=False).size()"
   ]
  },
  {
   "cell_type": "code",
   "execution_count": 195,
   "metadata": {},
   "outputs": [
    {
     "data": {
      "text/html": [
       "<div>\n",
       "<style scoped>\n",
       "    .dataframe tbody tr th:only-of-type {\n",
       "        vertical-align: middle;\n",
       "    }\n",
       "\n",
       "    .dataframe tbody tr th {\n",
       "        vertical-align: top;\n",
       "    }\n",
       "\n",
       "    .dataframe thead th {\n",
       "        text-align: right;\n",
       "    }\n",
       "</style>\n",
       "<table border=\"1\" class=\"dataframe\">\n",
       "  <thead>\n",
       "    <tr style=\"text-align: right;\">\n",
       "      <th></th>\n",
       "      <th>ID</th>\n",
       "      <th>Nom</th>\n",
       "      <th>Equipe</th>\n",
       "      <th>size</th>\n",
       "    </tr>\n",
       "  </thead>\n",
       "  <tbody>\n",
       "    <tr>\n",
       "      <th>0</th>\n",
       "      <td>1</td>\n",
       "      <td>Alice</td>\n",
       "      <td>Equipe A</td>\n",
       "      <td>1</td>\n",
       "    </tr>\n",
       "    <tr>\n",
       "      <th>1</th>\n",
       "      <td>2</td>\n",
       "      <td>Bob</td>\n",
       "      <td>Equipe B</td>\n",
       "      <td>1</td>\n",
       "    </tr>\n",
       "    <tr>\n",
       "      <th>2</th>\n",
       "      <td>3</td>\n",
       "      <td>Corentin</td>\n",
       "      <td>Equipe A</td>\n",
       "      <td>1</td>\n",
       "    </tr>\n",
       "    <tr>\n",
       "      <th>3</th>\n",
       "      <td>4</td>\n",
       "      <td>Daniel</td>\n",
       "      <td>Equipe C</td>\n",
       "      <td>1</td>\n",
       "    </tr>\n",
       "  </tbody>\n",
       "</table>\n",
       "</div>"
      ],
      "text/plain": [
       "   ID       Nom    Equipe  size\n",
       "0   1     Alice  Equipe A     1\n",
       "1   2       Bob  Equipe B     1\n",
       "2   3  Corentin  Equipe A     1\n",
       "3   4    Daniel  Equipe C     1"
      ]
     },
     "execution_count": 195,
     "metadata": {},
     "output_type": "execute_result"
    }
   ],
   "source": [
    "df_employees.groupby(df_employees.columns.tolist(),as_index=False).size()"
   ]
  },
  {
   "cell_type": "markdown",
   "metadata": {},
   "source": [
    "There is duplicate data only in the sales file"
   ]
  },
  {
   "cell_type": "markdown",
   "metadata": {},
   "source": [
    "<h4>Delete from both table the duplicated rows</h4>"
   ]
  },
  {
   "cell_type": "code",
   "execution_count": 196,
   "metadata": {},
   "outputs": [],
   "source": [
    "df_sales = df_sales.drop_duplicates(subset = 'ID')"
   ]
  },
  {
   "cell_type": "markdown",
   "metadata": {},
   "source": [
    "<h4>Looking at the missing data</h4>"
   ]
  },
  {
   "cell_type": "code",
   "execution_count": 197,
   "metadata": {},
   "outputs": [
    {
     "name": "stdout",
     "output_type": "stream",
     "text": [
      "Sales missing data\n",
      "\n",
      "ID           0\n",
      "Date         0\n",
      "Produit      0\n",
      "Prix         0\n",
      "Quantité     0\n",
      "Catégorie    1\n",
      "Vendeur      0\n",
      "Remise       2\n",
      "dtype: int64\n",
      "\n",
      "Employees missing data\n",
      "\n",
      "ID        0\n",
      "Nom       0\n",
      "Equipe    0\n",
      "dtype: int64\n"
     ]
    }
   ],
   "source": [
    "print('Sales missing data\\n')\n",
    "print(df_sales.isna().sum())\n",
    "print('\\nEmployees missing data\\n')\n",
    "print(df_employees.isna().sum())"
   ]
  },
  {
   "cell_type": "markdown",
   "metadata": {},
   "source": [
    "<h4>Handle data types</h4>"
   ]
  },
  {
   "cell_type": "code",
   "execution_count": 198,
   "metadata": {},
   "outputs": [
    {
     "name": "stdout",
     "output_type": "stream",
     "text": [
      "Sales types\n",
      "\n",
      "ID             int64\n",
      "Date          object\n",
      "Produit       object\n",
      "Prix           int64\n",
      "Quantité       int64\n",
      "Catégorie     object\n",
      "Vendeur      float64\n",
      "Remise       float64\n",
      "dtype: object\n",
      "\n",
      "Employees types\n",
      "\n",
      "ID         int64\n",
      "Nom       object\n",
      "Equipe    object\n",
      "dtype: object\n"
     ]
    }
   ],
   "source": [
    "print('Sales types\\n')\n",
    "print(df_sales.dtypes)\n",
    "print('\\nEmployees types\\n')\n",
    "print(df_employees.dtypes)"
   ]
  },
  {
   "cell_type": "code",
   "execution_count": 199,
   "metadata": {},
   "outputs": [],
   "source": [
    "df_sales['Date'] = pd.to_datetime(df_sales['Date'])\n",
    "df_sales['Vendeur'] = df_sales['Vendeur'].astype('int64')\n",
    "df_sales = df_sales.astype({'Produit': 'string', 'Catégorie': 'string'})\n",
    "\n",
    "df_employees = df_employees.astype({'Nom': 'string', 'Equipe': 'string'})"
   ]
  },
  {
   "cell_type": "markdown",
   "metadata": {},
   "source": [
    "We check again the type to make sure our modification has been took into account"
   ]
  },
  {
   "cell_type": "code",
   "execution_count": 200,
   "metadata": {},
   "outputs": [
    {
     "name": "stdout",
     "output_type": "stream",
     "text": [
      "Sales types\n",
      "\n",
      "ID                    int64\n",
      "Date         datetime64[ns]\n",
      "Produit      string[python]\n",
      "Prix                  int64\n",
      "Quantité              int64\n",
      "Catégorie    string[python]\n",
      "Vendeur               int64\n",
      "Remise              float64\n",
      "dtype: object\n",
      "\n",
      "Employees types\n",
      "\n",
      "ID                 int64\n",
      "Nom       string[python]\n",
      "Equipe    string[python]\n",
      "dtype: object\n"
     ]
    }
   ],
   "source": [
    "print('Sales types\\n')\n",
    "print(df_sales.dtypes)\n",
    "print('\\nEmployees types\\n')\n",
    "print(df_employees.dtypes)"
   ]
  },
  {
   "cell_type": "markdown",
   "metadata": {},
   "source": [
    "<h2>Add columns</h2>"
   ]
  },
  {
   "cell_type": "code",
   "execution_count": 201,
   "metadata": {},
   "outputs": [],
   "source": [
    "df_sales['PrixReel'] = df_sales['Prix'] * df_sales['Quantité'] * (100 - df_sales['Remise'])/100.0"
   ]
  },
  {
   "cell_type": "markdown",
   "metadata": {},
   "source": [
    "We check the column we just created"
   ]
  },
  {
   "cell_type": "code",
   "execution_count": 202,
   "metadata": {},
   "outputs": [
    {
     "data": {
      "text/html": [
       "<div>\n",
       "<style scoped>\n",
       "    .dataframe tbody tr th:only-of-type {\n",
       "        vertical-align: middle;\n",
       "    }\n",
       "\n",
       "    .dataframe tbody tr th {\n",
       "        vertical-align: top;\n",
       "    }\n",
       "\n",
       "    .dataframe thead th {\n",
       "        text-align: right;\n",
       "    }\n",
       "</style>\n",
       "<table border=\"1\" class=\"dataframe\">\n",
       "  <thead>\n",
       "    <tr style=\"text-align: right;\">\n",
       "      <th></th>\n",
       "      <th>ID</th>\n",
       "      <th>Date</th>\n",
       "      <th>Produit</th>\n",
       "      <th>Prix</th>\n",
       "      <th>Quantité</th>\n",
       "      <th>Catégorie</th>\n",
       "      <th>Vendeur</th>\n",
       "      <th>Remise</th>\n",
       "      <th>PrixReel</th>\n",
       "    </tr>\n",
       "  </thead>\n",
       "  <tbody>\n",
       "    <tr>\n",
       "      <th>0</th>\n",
       "      <td>1</td>\n",
       "      <td>2023-09-15</td>\n",
       "      <td>Ordinateur</td>\n",
       "      <td>1200</td>\n",
       "      <td>2</td>\n",
       "      <td>Informatique</td>\n",
       "      <td>2</td>\n",
       "      <td>10.0</td>\n",
       "      <td>2160.0</td>\n",
       "    </tr>\n",
       "    <tr>\n",
       "      <th>1</th>\n",
       "      <td>2</td>\n",
       "      <td>2023-09-15</td>\n",
       "      <td>Souris</td>\n",
       "      <td>25</td>\n",
       "      <td>5</td>\n",
       "      <td>Accessoires</td>\n",
       "      <td>1</td>\n",
       "      <td>0.0</td>\n",
       "      <td>125.0</td>\n",
       "    </tr>\n",
       "    <tr>\n",
       "      <th>2</th>\n",
       "      <td>3</td>\n",
       "      <td>2023-09-19</td>\n",
       "      <td>Clavier mécanique</td>\n",
       "      <td>70</td>\n",
       "      <td>3</td>\n",
       "      <td>Informatique</td>\n",
       "      <td>2</td>\n",
       "      <td>5.0</td>\n",
       "      <td>199.5</td>\n",
       "    </tr>\n",
       "    <tr>\n",
       "      <th>3</th>\n",
       "      <td>4</td>\n",
       "      <td>2023-09-18</td>\n",
       "      <td>Écran 24 pouces</td>\n",
       "      <td>180</td>\n",
       "      <td>4</td>\n",
       "      <td>Informatique</td>\n",
       "      <td>1</td>\n",
       "      <td>15.0</td>\n",
       "      <td>612.0</td>\n",
       "    </tr>\n",
       "    <tr>\n",
       "      <th>4</th>\n",
       "      <td>5</td>\n",
       "      <td>2023-09-19</td>\n",
       "      <td>Casque audio</td>\n",
       "      <td>120</td>\n",
       "      <td>1</td>\n",
       "      <td>Accessoires</td>\n",
       "      <td>3</td>\n",
       "      <td>NaN</td>\n",
       "      <td>NaN</td>\n",
       "    </tr>\n",
       "  </tbody>\n",
       "</table>\n",
       "</div>"
      ],
      "text/plain": [
       "   ID       Date            Produit  Prix  Quantité     Catégorie  Vendeur  \\\n",
       "0   1 2023-09-15         Ordinateur  1200         2  Informatique        2   \n",
       "1   2 2023-09-15             Souris    25         5   Accessoires        1   \n",
       "2   3 2023-09-19  Clavier mécanique    70         3  Informatique        2   \n",
       "3   4 2023-09-18    Écran 24 pouces   180         4  Informatique        1   \n",
       "4   5 2023-09-19       Casque audio   120         1   Accessoires        3   \n",
       "\n",
       "   Remise  PrixReel  \n",
       "0    10.0    2160.0  \n",
       "1     0.0     125.0  \n",
       "2     5.0     199.5  \n",
       "3    15.0     612.0  \n",
       "4     NaN       NaN  "
      ]
     },
     "execution_count": 202,
     "metadata": {},
     "output_type": "execute_result"
    }
   ],
   "source": [
    "df_sales.head() "
   ]
  },
  {
   "cell_type": "markdown",
   "metadata": {},
   "source": [
    "<h2>Little fix before exporting the data</h2><br>Some characters aren't supported by the encoding system"
   ]
  },
  {
   "cell_type": "code",
   "execution_count": 203,
   "metadata": {},
   "outputs": [],
   "source": [
    "df_sales = df_sales.rename(columns={'Catégorie': 'Categorie', 'Quantité': 'Quantite'})"
   ]
  },
  {
   "cell_type": "markdown",
   "metadata": {},
   "source": [
    "<h2>Export the data</h2>"
   ]
  },
  {
   "cell_type": "markdown",
   "metadata": {},
   "source": [
    "<h4>Convert the dataframe in a dictionary"
   ]
  },
  {
   "cell_type": "code",
   "execution_count": 204,
   "metadata": {},
   "outputs": [],
   "source": [
    "def dict_maker(df):\n",
    "    headers = df.columns.values \n",
    "    d = [dict(zip(headers, df.iloc[i])) for i in range(len(df))]\n",
    "    return d\n",
    "\n",
    "dict_sales = dict_maker(df_sales)\n",
    "dict_employees = dict_maker(df_employees)"
   ]
  },
  {
   "cell_type": "markdown",
   "metadata": {},
   "source": [
    "<h4>Save the list</h4>"
   ]
  },
  {
   "cell_type": "code",
   "execution_count": 205,
   "metadata": {},
   "outputs": [],
   "source": [
    "def csv_maker(file_name, dict):\n",
    "    with open(file_name, mode = 'w', newline = '') as csvfile:\n",
    "        fieldnames = dict[0].keys()\n",
    "        writer = csv.DictWriter(csvfile, fieldnames = fieldnames)\n",
    "        writer.writeheader()\n",
    "        writer.writerows(dict)\n",
    "\n",
    "csv_maker('data/sales_vf.csv', dict_sales)\n",
    "csv_maker('data/employees_vf.csv', dict_employees)"
   ]
  }
 ],
 "metadata": {
  "kernelspec": {
   "display_name": "base",
   "language": "python",
   "name": "python3"
  },
  "language_info": {
   "codemirror_mode": {
    "name": "ipython",
    "version": 3
   },
   "file_extension": ".py",
   "mimetype": "text/x-python",
   "name": "python",
   "nbconvert_exporter": "python",
   "pygments_lexer": "ipython3",
   "version": "3.12.7"
  }
 },
 "nbformat": 4,
 "nbformat_minor": 2
}
